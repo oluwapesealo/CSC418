{
 "cells": [
  {
   "cell_type": "code",
   "execution_count": 4,
   "metadata": {},
   "outputs": [
    {
     "name": "stdout",
     "output_type": "stream",
     "text": [
      "Please enter your username [Your First name]: Ikechukwu\n",
      "Please enter your password: 7\n",
      "Image for username Ikechukwu not found.\n"
     ]
    }
   ],
   "source": [
    "import cv2\n",
    "\n",
    "    \n",
    "names ={\n",
    "    'Enase' : 'Okonedo',\n",
    "    'Darlington' : 'Agholor',\n",
    "    'Chris' : 'Ogbechie',\n",
    "    'Ikechukwu' : 'Ogbuike',\n",
    "    'Adaora' : 'Onaga'\n",
    "}\n",
    "    \n",
    "def verify_password(username, password):\n",
    "    \n",
    "    \n",
    "    if username in names:\n",
    "        surname = names[username]\n",
    "        password_sum = len(surname)\n",
    " \n",
    "        if password == password_sum:\n",
    "            display_profile(username)\n",
    "        else:\n",
    "            print(f\"The password inputed does not match username {username}\")\n",
    "    else:\n",
    "        print(f\"username {username} not found\")\n",
    "    \n",
    "def display_profile(username):\n",
    "    image_formats = ['jpg', 'jpeg', 'png']\n",
    "    image = None\n",
    "    for ext in image_formats:\n",
    "        path = f'images/{username}.{ext}'\n",
    "        image = cv2.imread(path)\n",
    "        break\n",
    "    if image is not None:\n",
    "        cv2.imshow('User Image', image)\n",
    "        cv2.waitKey(0)\n",
    "        cv2.destroyAllWindows()\n",
    "    else:\n",
    "        print(f\"Image for username {username} not found.\")\n",
    "        \n",
    "def program():\n",
    "    username = input(\"Please enter your username [Your First name]: \")\n",
    "    password = int(input(\"Please enter your password: \"))\n",
    "    verify_password(username, password)\n",
    "    \n",
    "program()\n",
    "    "
   ]
  },
  {
   "cell_type": "code",
   "execution_count": 1,
   "metadata": {},
   "outputs": [
    {
     "name": "stdout",
     "output_type": "stream",
     "text": [
      "Okonedo\n"
     ]
    }
   ],
   "source": [
    "names ={\n",
    "    'Enase' : 'Okonedo',\n",
    "    'Darlington' : 'Agholor',\n",
    "    'Chris' : 'Ogbechie',\n",
    "    'Ikechukwu' : 'Ogbuike',\n",
    "    'Adaora' : 'Onaga'\n",
    "}\n",
    "print(names['Enase'])"
   ]
  },
  {
   "cell_type": "code",
   "execution_count": 3,
   "metadata": {},
   "outputs": [
    {
     "name": "stdout",
     "output_type": "stream",
     "text": [
      "7\n"
     ]
    }
   ],
   "source": [
    "password = len(\"surname\")\n",
    "print(password)"
   ]
  },
  {
   "cell_type": "code",
   "execution_count": null,
   "metadata": {},
   "outputs": [],
   "source": []
  }
 ],
 "metadata": {
  "kernelspec": {
   "display_name": "Python 3",
   "language": "python",
   "name": "python3"
  },
  "language_info": {
   "codemirror_mode": {
    "name": "ipython",
    "version": 3
   },
   "file_extension": ".py",
   "mimetype": "text/x-python",
   "name": "python",
   "nbconvert_exporter": "python",
   "pygments_lexer": "ipython3",
   "version": "3.8.5"
  }
 },
 "nbformat": 4,
 "nbformat_minor": 4
}
