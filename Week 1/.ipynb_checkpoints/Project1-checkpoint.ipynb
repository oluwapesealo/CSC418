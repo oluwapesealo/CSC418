{
 "cells": [
  {
   "cell_type": "code",
   "execution_count": null,
   "metadata": {},
   "outputs": [],
   "source": [
    "username = input(\"Please enter your username[Your First name]: \")\n",
    "password = int(input(\"Please enter your password\"))\n",
    "    \n",
    "names ={\n",
    "    'Enase' : 'Okonedo',\n",
    "    'Darlington' : 'Agholor',\n",
    "    'Chris' : 'Ogbechie',\n",
    "    'Ikechukwu' : 'Ogbuike',\n",
    "    'Adaora' : 'Onaga'\n",
    "}\n",
    "    \n",
    "def check_password(username, surname, password):\n",
    "    if \n",
    "    if password == len(surname)\n",
    "    display_profile(username)\n",
    "    else \n",
    "    \n",
    "    \n",
    "def "
   ]
  },
  {
   "cell_type": "code",
   "execution_count": 1,
   "metadata": {},
   "outputs": [
    {
     "name": "stdout",
     "output_type": "stream",
     "text": [
      "Okonedo\n"
     ]
    }
   ],
   "source": [
    "names ={\n",
    "    'Enase' : 'Okonedo',\n",
    "    'Darlington' : 'Agholor',\n",
    "    'Chris' : 'Ogbechie',\n",
    "    'Ikechukwu' : 'Ogbuike',\n",
    "    'Adaora' : 'Onaga'\n",
    "}\n",
    "print(names['Enase'])"
   ]
  },
  {
   "cell_type": "code",
   "execution_count": 3,
   "metadata": {},
   "outputs": [
    {
     "name": "stdout",
     "output_type": "stream",
     "text": [
      "7\n"
     ]
    }
   ],
   "source": [
    "password = len(\"surname\")\n",
    "print(password)"
   ]
  },
  {
   "cell_type": "code",
   "execution_count": null,
   "metadata": {},
   "outputs": [],
   "source": []
  }
 ],
 "metadata": {
  "kernelspec": {
   "display_name": "Python 3",
   "language": "python",
   "name": "python3"
  },
  "language_info": {
   "codemirror_mode": {
    "name": "ipython",
    "version": 3
   },
   "file_extension": ".py",
   "mimetype": "text/x-python",
   "name": "python",
   "nbconvert_exporter": "python",
   "pygments_lexer": "ipython3",
   "version": "3.8.5"
  }
 },
 "nbformat": 4,
 "nbformat_minor": 4
}
