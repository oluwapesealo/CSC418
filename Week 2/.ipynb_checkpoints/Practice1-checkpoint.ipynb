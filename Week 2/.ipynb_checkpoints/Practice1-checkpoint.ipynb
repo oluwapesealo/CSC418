{
 "cells": [
  {
   "cell_type": "code",
   "execution_count": 5,
   "metadata": {},
   "outputs": [],
   "source": [
    "import cv2\n",
    "\n",
    "image1 = cv2.imread('images/sst.jpg')\n",
    "image2 = cv2.imread('images/sst-foyer.jpg')\n",
    "\n",
    "image1 = cv2.resize(image1, (500,400))\n",
    "image2 = cv2.resize(image2, (500,400))\n",
    "\n",
    "addImage = cv2.addWeighted(image1, 0.5, image2, 0.6, 0)\n",
    "\n",
    "\n",
    "cv2.imshow('Weighted Image', addImage)\n",
    "\n",
    "if cv2.waitKey(0) & 0xff == 27:\n",
    "    cv2.destroyAllWindows()\n",
    "    "
   ]
  },
  {
   "cell_type": "code",
   "execution_count": null,
   "metadata": {},
   "outputs": [],
   "source": []
  }
 ],
 "metadata": {
  "kernelspec": {
   "display_name": "Python 3",
   "language": "python",
   "name": "python3"
  },
  "language_info": {
   "codemirror_mode": {
    "name": "ipython",
    "version": 3
   },
   "file_extension": ".py",
   "mimetype": "text/x-python",
   "name": "python",
   "nbconvert_exporter": "python",
   "pygments_lexer": "ipython3",
   "version": "3.8.5"
  }
 },
 "nbformat": 4,
 "nbformat_minor": 5
}
